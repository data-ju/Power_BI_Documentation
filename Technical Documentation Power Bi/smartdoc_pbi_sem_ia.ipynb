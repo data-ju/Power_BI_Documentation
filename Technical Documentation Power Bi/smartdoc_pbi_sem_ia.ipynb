{
 "cells": [
  {
   "cell_type": "markdown",
   "id": "28d0f808-cb48-469b-9523-ef5d95bb30f2",
   "metadata": {},
   "source": [
    "# Criando a documentação automática usando Python"
   ]
  },
  {
   "cell_type": "markdown",
   "id": "1151e8a4-cc9e-48f6-9d6d-2971088de634",
   "metadata": {
    "jp-MarkdownHeadingCollapsed": true
   },
   "source": [
    "## Resumo do projeto e instruções:\n",
    "\n",
    "---\n",
    "\n",
    "Esse é um projeto de criação de documentação automática do Power BI utilizando o Python, a partir do arquivo .pbit de um projeto de Power BI.\n",
    "\n",
    "É necessário, antes de executar o código:\n",
    "- Transformar seu arquivo .pbix em .pbit, para fazer isso, basta abrir seu arquivo no Power BI Desktop, ir em Arquivo > Exportar > Modelo do Power BI;\n",
    "- Ter o Python baixado na sua máquina e, opcionalmente, o VSCode ou outro editor de código (utilizei o Jupyter Notebook);\n",
    "- Instalar e importar as bibliotecas necessárias (já estão no código);\n",
    "- Baixar o arquivo modelo em word ou utilizar o seu próprio (configurando o código conforme seu próprio modelo).\n",
    "\n",
    "*O resultado final será um arquivo Word com as informações de Páginas, Tabelas, Colunas, Medidas, Fontes e Relacionamentos de tabelas do projeto.*\n",
    "\n",
    "Espero que goste do projeto e que ele te auxilie em sua jornada de inteligência de dados.\n",
    "\n",
    "**Antes de executar o código, troque os caminhos das variáveis: caminho_BI, nome_BI, caminho_modelo_word e nome_modelo_word no arquivo config!**"
   ]
  },
  {
   "cell_type": "markdown",
   "id": "9fdc7cf7-959a-4eba-857f-a4d4f54b67c7",
   "metadata": {},
   "source": [
    "## Primeira parte do código: \n",
    "\n",
    "Para a primeira parte do código, utilizo as bibliotecas json, pandas e zipfile para:\n",
    "1. Transformar o arquivo .pbit em .zip\n",
    "2. Extrair os arquivos \"Layout\" e \"ModelSchema\" em JSON\n",
    "3. Retornar o arquivo .zip para .pbit\n",
    "4. Extrair as informações de páginas e visuais do arquivo \"Layout\"\n",
    "5. Extrair as informações de tabelas, medidas, fontes e relacionamentos do arquivo \"ModelSchema\"\n",
    "6. Transformar todas as informações em dataframes utilizando a biblioteca pandas, para posterior exportação para o Word"
   ]
  },
  {
   "cell_type": "code",
   "execution_count": null,
   "id": "0436edf3-8cca-40a8-997e-3a3f28c0e286",
   "metadata": {
    "scrolled": true
   },
   "outputs": [],
   "source": [
    "# Baixando as bibliotecas necessárias\n",
    "!pip install -r requirements.txt"
   ]
  },
  {
   "cell_type": "code",
   "execution_count": null,
   "id": "86dc9e0a-50f8-4534-999b-da35c90f499a",
   "metadata": {},
   "outputs": [],
   "source": [
    "# #Caso a linha anterior não funcione, descomente e use:\n",
    "# !pip install pandas python-docx"
   ]
  },
  {
   "cell_type": "code",
   "execution_count": null,
   "id": "fe8dc511-8f44-421b-8723-84745bea02cc",
   "metadata": {},
   "outputs": [],
   "source": [
    "#Importando as bibliotecas\n",
    "import json\n",
    "import pandas as pd\n",
    "import config\n",
    "from os import path, rename\n",
    "import zipfile\n",
    "import datetime\n",
    "from datetime import datetime\n",
    "import requests\n",
    "from io import StringIO\n",
    "import time\n",
    "import docx\n",
    "from docx import Document"
   ]
  },
  {
   "cell_type": "code",
   "execution_count": null,
   "id": "1183ae67-e462-4682-a554-3a7c5ee9f84f",
   "metadata": {
    "scrolled": true
   },
   "outputs": [],
   "source": [
    "# Traz a data atual para inserir no relatório\n",
    "data_atual = datetime.now()\n",
    "\n",
    "# Formata a data no formato desejado\n",
    "data_formatada = data_atual.strftime(\"%d/%m/%Y\")\n",
    "\n",
    "print(\"Data da documentação:\", data_formatada)"
   ]
  },
  {
   "cell_type": "code",
   "execution_count": null,
   "id": "bf6213b1-6de9-42bd-9f2e-aafb4fa79860",
   "metadata": {},
   "outputs": [],
   "source": [
    "# Substitua no arquivo .config os caminhos e nomes do relatório e modelo\n",
    "\n",
    "caminho_BI = config.caminho_BI #Caminho do arquivo do seu relatório\n",
    "nome_BI = config.nome_BI #Nome do arquivo do seu relatório\n",
    "\n",
    "# Substitua pelo caminho e nome do arquivo do seu modelo do word (ou o baixado)\n",
    "caminho_modelo_word = config.caminho_modelo_word #Caminho onde está seu modelo word (sem incluir o modelo)\n",
    "nome_modelo_word = config.nome_modelo_word #Nome do seu arquivo modelo word\n",
    "\n",
    "arquivo_pbit = path.join(caminho_BI, f'{nome_BI}.pbit')\n",
    "arquivo_zip = path.join(caminho_BI, f'{nome_BI}.zip')\n",
    "arquivo_json_layout = path.join(caminho_BI, 'Report', 'Layout')\n",
    "arquivo_json_model = path.join(caminho_BI, 'DataModelSchema')\n",
    "modelo_word = path.join(caminho_modelo_word, f'{nome_modelo_word}')"
   ]
  },
  {
   "cell_type": "code",
   "execution_count": null,
   "id": "9faabee5-f5de-4271-b530-65f2f767f6f6",
   "metadata": {},
   "outputs": [],
   "source": [
    "# Verificando se o arquivo_pbix não existe ou se o arquivo_zip já existe\n",
    "if not path.exists(arquivo_pbit) or path.exists(arquivo_zip):\n",
    "    # Pule para a próxima instrução\n",
    "    print(\"Arquivo .pbit não encontrado ou arquivo .zip já existe. Pulando para a próxima instrução.\")\n",
    "else:\n",
    "    # Renomeia o arquivo caso a condição seja falsa\n",
    "    rename(arquivo_pbit, arquivo_zip)"
   ]
  },
  {
   "cell_type": "code",
   "execution_count": null,
   "id": "73728238-2f3c-4fc5-bb47-042bc943cce2",
   "metadata": {},
   "outputs": [],
   "source": [
    "# Extraindo o arquivo Layout do ZIP\n",
    "with zipfile.ZipFile(arquivo_zip, 'r') as zip:\n",
    "    arquivo_json_layout_zip = 'Report/Layout'\n",
    "    arquivo_json_model_zip = 'DataModelSchema'\n",
    "    zip.extract(arquivo_json_layout_zip, caminho_BI)\n",
    "    zip.extract(arquivo_json_model_zip, caminho_BI)"
   ]
  },
  {
   "cell_type": "code",
   "execution_count": null,
   "id": "2cdcf667-39bb-4ed6-8019-cd0d377bd498",
   "metadata": {},
   "outputs": [],
   "source": [
    "# Retornando o arquivo zip para pbit\n",
    "rename(arquivo_zip, arquivo_pbit)"
   ]
  },
  {
   "cell_type": "code",
   "execution_count": null,
   "id": "f6fa3526-f48b-4039-8e5b-a943eb4e38a2",
   "metadata": {
    "scrolled": true
   },
   "outputs": [],
   "source": [
    "# Carregando o arquivo Layout em JSON\n",
    "with open(arquivo_json_layout, 'r', encoding='utf-16-le') as f:\n",
    "    dados = json.load(f)"
   ]
  },
  {
   "cell_type": "code",
   "execution_count": null,
   "id": "2e78cdd7-84ed-4217-a441-1806f086b4ad",
   "metadata": {
    "scrolled": true
   },
   "outputs": [],
   "source": [
    "#Extraindo informações dos nomes das páginas do arquivo Layout\n",
    "display_names = []\n",
    "\n",
    "for section in dados.get('sections', []):\n",
    "    display_name = section.get('displayName')\n",
    "    display_names.append({'Páginas': display_name})\n",
    "\n",
    "# Convertendo os dados para um DataFrame usando pandas\n",
    "pages = pd.DataFrame(display_names)\n",
    "\n",
    "#Exibindo a tabela\n",
    "display(pages)"
   ]
  },
  {
   "cell_type": "code",
   "execution_count": null,
   "id": "e8f32306-dfa1-4eef-831c-ef071686f8b4",
   "metadata": {
    "scrolled": true
   },
   "outputs": [],
   "source": [
    "# Extraindo informações dos visuais do arquivo Layout\n",
    "visual_containers = []\n",
    "\n",
    "# Extraindo nomes das páginas\n",
    "for section in dados.get('sections', []):\n",
    "    display_name = section.get('displayName', 'Sem Nome')\n",
    "\n",
    "    # Percorre cada visualContainer dentro da seção\n",
    "    for container in section.get(\"visualContainers\", []):\n",
    "        # Extrai os valores de x e y do position\n",
    "        config = json.loads(container.get(\"config\", \"{}\"))\n",
    "        for layout in config.get(\"layouts\", []):\n",
    "            position = layout.get(\"position\", {})\n",
    "            x = position.get(\"x\")\n",
    "            y = position.get(\"y\")\n",
    "            width = position.get(\"width\")\n",
    "            height= position.get(\"height\")\n",
    "\n",
    "        # Extrai o visualType e queryRef\n",
    "        single_visual = config.get(\"singleVisual\", {})\n",
    "        visual_type = single_visual.get(\"visualType\")\n",
    "\n",
    "        \n",
    "        # Coleta todos os queryRefs presentes em qualquer chave de projections\n",
    "        projections = single_visual.get(\"projections\", {})\n",
    "        query_refs = []\n",
    "        for key, items in projections.items():\n",
    "            for item in items:\n",
    "                query_ref = item.get(\"queryRef\")\n",
    "                if query_ref:\n",
    "                    #Retira a informação da tabela do nome da medida\n",
    "                    measure_name = query_ref.split(\".\")[-1]\n",
    "                    query_refs.append(measure_name)\n",
    "\n",
    "\n",
    "        # Define query_refs como \"\"Não há medidas utilizadas no visual\" se não houver medidas\n",
    "        query_refs = query_refs if query_refs else \"Não há medidas utilizadas no visual\"\n",
    "\n",
    "        # Adiciona as informações dos visuais à lista, incluindo Página, posição X e Y, tipo de visual e medidas utilizadas\n",
    "        visual_containers.append({\n",
    "            \"Página\": display_name,\n",
    "            \"X\": int(x),\n",
    "            \"Y\": int(y),\n",
    "            \"Altura\": int(height),\n",
    "            \"Largura\": int(width),\n",
    "            \"Tipo de visual\": visual_type,\n",
    "            \"Medidas utilizadas\": query_refs\n",
    "        })\n",
    "\n",
    "# Convertendo os dados para um DataFrame usando pandas\n",
    "visuals = pd.DataFrame(visual_containers)\n",
    "\n",
    "# Exibindo a tabela\n",
    "display(visuals)"
   ]
  },
  {
   "cell_type": "code",
   "execution_count": null,
   "id": "4b528f48-59dd-4d49-a7f3-0ed1c94edd8a",
   "metadata": {
    "scrolled": true
   },
   "outputs": [],
   "source": [
    "#Gera as informações das tabelas do relatório\n",
    "\n",
    "# Carregando o arquivo ModelShema em JSON\n",
    "with open(arquivo_json_model, 'r', encoding='utf-16-le') as f:\n",
    "    dados_model = json.load(f)\n",
    "\n",
    "#Extraindo nome das tabelas e colunas relacionadas\n",
    "tables = []\n",
    "\n",
    "#Extraindo nome das tabelas\n",
    "for table in dados_model.get('model', {}).get('tables', []):\n",
    "    table_name = (table.get(\"name\", \"\"))\n",
    "\n",
    "    #Extraindo colunas relacionadas\n",
    "    for column in table.get('columns', []):\n",
    "        column_name = (column.get(\"name\", \"\"))\n",
    "        dataType = (column.get('dataType', \"\"))\n",
    "        column_type = (column.get('type', \"\"))\n",
    "\n",
    "        # Verificação se o tipo de coluna é calculada ou não\n",
    "        is_calculated = column_type in ['calculatedTableColumn', 'calculated']\n",
    "\n",
    "        # Adiciona as informações extraídas à lista, incluindo tabela, nome das colunas, tipo de dados e se é coluna calculada\n",
    "        tables.append({\n",
    "        'Tabelas': table_name,\n",
    "        'Colunas': column_name,\n",
    "        'Tipo de dados': dataType,\n",
    "        'Coluna calculada?': 'Sim' if is_calculated else 'Não'\n",
    "        })\n",
    "       \n",
    "# Convertendo os dados para um DataFrame usando pandas\n",
    "tables = pd.DataFrame(tables)\n",
    "\n",
    "#Imprimindo para conferência\n",
    "display(tables)"
   ]
  },
  {
   "cell_type": "code",
   "execution_count": null,
   "id": "f20f3c5d-85b5-4a28-a7ba-8ec5c2f0434a",
   "metadata": {
    "scrolled": true
   },
   "outputs": [],
   "source": [
    "# Gerar as medidas utilizadas e seus cálculos\n",
    "\n",
    "measures = []\n",
    "\n",
    "#Extraindo nome das tabelas\n",
    "for table in dados_model.get('model', {}).get('tables', []):\n",
    "\n",
    "    for measure in table.get('measures',[]):\n",
    "        measure_name = measure.get('name')\n",
    "        measure_expression = measure.get('expression')\n",
    "\n",
    "        # Verifique se a expressão é uma lista e, se sim, una os elementos em uma string\n",
    "        if isinstance(measure_expression, list):\n",
    "            measure_expression = '\\n'.join(filter(lambda x: x.strip(), measure_expression))\n",
    "\n",
    "        # Limpeza da expressão para garantir que não tenha quebras de linha indesejadas\n",
    "        measure_expression = measure_expression.replace('\\n', ' ')  # Substitui quebras de linha por espaço\n",
    "\n",
    "        # Adiciona as informações extraídas à lista, incluindo tabela, nome das colunas, tipo de dados e se é coluna calculada\n",
    "        measures.append({\n",
    "            'Medida': measure_name,\n",
    "            'Expressão': measure_expression\n",
    "        })\n",
    "       \n",
    "# Convertendo os dados para um DataFrame usando pandas\n",
    "measures = pd.DataFrame(measures)\n",
    "\n",
    "#Imprimindo para conferência\n",
    "display(measures)"
   ]
  },
  {
   "cell_type": "code",
   "execution_count": null,
   "id": "96d8605f-d050-4452-b54d-ff6fc834f19c",
   "metadata": {
    "scrolled": true
   },
   "outputs": [],
   "source": [
    "# Gerar as fontes das tabelas utilizadas\n",
    "\n",
    "fonts = []\n",
    "\n",
    "#Extraindo nome das tabelas\n",
    "for table in dados_model.get('model', {}).get('tables', []):\n",
    "\n",
    "    for partition in table.get('partitions', []):\n",
    "        partition_name = partition.get('name')\n",
    "        partition_mode = partition.get('mode')\n",
    "\n",
    "        # Extraindo o tipo de partição e a expressão\n",
    "        source = partition.get('source', {})\n",
    "        font_type = source.get('type')\n",
    "        font_expression = source.get('expression')\n",
    "\n",
    "        # Adiciona as informações extraídas à lista, incluindo tabela, nome das colunas, tipo de dados e se é coluna calculada\n",
    "        # Verifique se a expressão é uma lista e, se sim, una os elementos em uma string\n",
    "        if isinstance(font_expression, list):\n",
    "            # Remove elementos vazios antes de juntar\n",
    "            font_expression = '\\n'.join(filter(lambda x: x.strip(), font_expression))\n",
    "        \n",
    "        fonts.append({\n",
    "            'Tabela': partition_name,\n",
    "            'Modo de importação': partition_mode,\n",
    "            'Tipo de importação': font_type,\n",
    "            'Fonte': font_expression\n",
    "        })\n",
    "       \n",
    "# Convertendo os dados para um DataFrame usando pandas\n",
    "fonts = pd.DataFrame(fonts)\n",
    "\n",
    "#Imprimindo para conferência\n",
    "display(fonts)"
   ]
  },
  {
   "cell_type": "code",
   "execution_count": null,
   "id": "0c53b761-fc68-4b78-bdef-ee59b7e10856",
   "metadata": {
    "scrolled": true
   },
   "outputs": [],
   "source": [
    "# Gera os relacionamentos entre as tabelas\n",
    "\n",
    "relationships = []\n",
    "\n",
    "#Extraindo os relacionamentos direto do JSON\n",
    "for relation in dados_model.get('model', {}).get('relationships', []):\n",
    "    #Puxando as informações\n",
    "    relationship_fromTable = relation.get('fromTable')\n",
    "    relationship_toTable = relation.get('toTable')\n",
    "    relationship_fromColumn = relation.get('fromColumn')\n",
    "    relationship_toColumn = relation.get('toColumn')\n",
    "\n",
    "        #Criando as colunas da tabela\n",
    "    relationships.append({\n",
    "        'Da tabela': relationship_fromTable,\n",
    "        'Para tabela': relationship_toTable,\n",
    "        'Da coluna': relationship_fromColumn,\n",
    "        'Para coluna': relationship_toColumn\n",
    "    })\n",
    "       \n",
    "# Convertendo os dados para um DataFrame usando pandas\n",
    "relationships = pd.DataFrame(relationships)\n",
    "\n",
    "#Imprimindo para conferência\n",
    "display(relationships)"
   ]
  },
  {
   "cell_type": "markdown",
   "id": "05d4ade4-4a69-4300-ba22-84cf25fd4700",
   "metadata": {},
   "source": [
    "## Segunda parte do código:\n",
    "\n",
    "Para a segunda parte do código, utilizo a biblioteca docx para:\n",
    "1. Abrir o arquivo do modelo word\n",
    "2. Transformar os dataframes gerados anteriormente em tabelas\n",
    "3. Incluir cada tabela após o parágrafo correspondente, visando a organização da documentação\n",
    "4. Salvar o arquivo com o nome do relatório + \"_doc\" no formato .docx"
   ]
  },
  {
   "cell_type": "code",
   "execution_count": null,
   "id": "f4231cb8-f349-495d-85f9-d61c0c6cd16c",
   "metadata": {
    "scrolled": true
   },
   "outputs": [],
   "source": [
    "# Inserir tabelas no Word\n",
    "\n",
    "# Nomeando os arquivos do Word e salvando em uma variável\n",
    "nome_word = nome_BI + '_doc.docx'\n",
    "salvar_word = path.join(caminho_modelo_word, nome_word)\n",
    "\n",
    "# Abrir o modelo do Word\n",
    "document = Document(modelo_word)\n",
    "\n",
    "# Função para inserir tabela após o parágrafo\n",
    "def inserir_tabela_apos_paragrafo(paragrafo, dataframe):\n",
    "    df_columns = dataframe.columns\n",
    "    # Criar a tabela\n",
    "    tabela = document.add_table(rows=1, cols=len(df_columns))\n",
    "    tabela.style = 'Table Grid'\n",
    "\n",
    "    # Adicionar o cabeçalho da tabela\n",
    "    for idx, col_name in enumerate(df_columns):\n",
    "        cell = tabela.rows[0].cells[idx]\n",
    "        cell.text = col_name\n",
    "        cell.paragraphs[0].runs[0].font.bold = True  # Deixar o cabeçalho em negrito\n",
    "\n",
    "    # Adicionar dados à tabela\n",
    "    for row_data in dataframe.itertuples(index=False):\n",
    "        row_cells = tabela.add_row().cells\n",
    "        for idx, value in enumerate(row_data):\n",
    "            row_cells[idx].text = str(value)\n",
    "\n",
    "    # Criar um novo parágrafo vazio para a tabela, se necessário\n",
    "    new_paragraph = document.add_paragraph()\n",
    "    # Adiciona a tabela após o parágrafo atual\n",
    "    document._element.body.insert(document._element.body.index(paragrafo._element) + 1, tabela._element)\n",
    "\n",
    "# Localizar o parágrafo com o título \"Data da documentação\" e inserir data atual\n",
    "for para in document.paragraphs:\n",
    "    if \"Data da documentação:\" in para.text:\n",
    "        # Localiza o parágrafo \"Data:\" e insere a data formatada diretamente nele\n",
    "        para.add_run(f\" {data_formatada}\")\n",
    "        break\n",
    "\n",
    "# Localizar o parágrafo com o título \"Nome do Relatório\" e inserir o nome do relatório\n",
    "for para in document.paragraphs:\n",
    "    if \"Nome do relatório:\" in para.text:\n",
    "        # Insere o nome do arquivo na documentação\n",
    "        para.add_run(f\" {nome_BI}\")\n",
    "        break\n",
    "\n",
    "# Localizar o parágrafo com o título \"Páginas\" e inserir tabela\n",
    "for para in document.paragraphs:\n",
    "    if para.text == \"Páginas\":\n",
    "        inserir_tabela_apos_paragrafo(para, pages)\n",
    "\n",
    "# Localizar o parágrafo com o título \"Tabelas\" e inserir tabela\n",
    "for para in document.paragraphs:\n",
    "    if para.text == \"Tabelas\":\n",
    "        inserir_tabela_apos_paragrafo(para, tables)\n",
    "\n",
    "# Localizar o parágrafo com o título \"Medidas\" e inserir tabela\n",
    "for para in document.paragraphs:\n",
    "    if para.text == \"Medidas\":\n",
    "        inserir_tabela_apos_paragrafo(para, measures)\n",
    "\n",
    "# Localizar o parágrafo com o título \"Visuais\" e inserir tabela\n",
    "for para in document.paragraphs:\n",
    "    if para.text == \"Visuais\":\n",
    "        inserir_tabela_apos_paragrafo(para, visuals)\n",
    "\n",
    "# Localizar o parágrafo com o título \"Fontes\" e inserir tabela\n",
    "for para in document.paragraphs:\n",
    "    if para.text == \"Fontes\":\n",
    "        inserir_tabela_apos_paragrafo(para, fonts)\n",
    "\n",
    "# Localizar o parágrafo com o título \"Relacionamentos\" e inserir tabela\n",
    "for para in document.paragraphs:\n",
    "    if para.text == \"Relacionamentos\":\n",
    "        inserir_tabela_apos_paragrafo(para, relationships)\n",
    "\n",
    "# Salvar o arquivo\n",
    "document.save(salvar_word)\n",
    "\n",
    "print('Documentação gerada!')"
   ]
  }
 ],
 "metadata": {
  "kernelspec": {
   "display_name": "Python 3 (ipykernel)",
   "language": "python",
   "name": "python3"
  },
  "language_info": {
   "codemirror_mode": {
    "name": "ipython",
    "version": 3
   },
   "file_extension": ".py",
   "mimetype": "text/x-python",
   "name": "python",
   "nbconvert_exporter": "python",
   "pygments_lexer": "ipython3",
   "version": "3.12.4"
  }
 },
 "nbformat": 4,
 "nbformat_minor": 5
}
